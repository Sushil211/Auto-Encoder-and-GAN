{
  "nbformat": 4,
  "nbformat_minor": 0,
  "metadata": {
    "colab": {
      "name": "conv_autoencoders.ipynb",
      "provenance": [],
      "authorship_tag": "ABX9TyPy8H/O4DRJ1DoAlGBmY+aH",
      "include_colab_link": true
    },
    "kernelspec": {
      "name": "python3",
      "display_name": "Python 3"
    },
    "accelerator": "GPU"
  },
  "cells": [
    {
      "cell_type": "markdown",
      "metadata": {
        "id": "view-in-github",
        "colab_type": "text"
      },
      "source": [
        "<a href=\"https://colab.research.google.com/github/Sushil211/Auto-Encoder-and-GAN/blob/master/conv_autoencoders.ipynb\" target=\"_parent\"><img src=\"https://colab.research.google.com/assets/colab-badge.svg\" alt=\"Open In Colab\"/></a>"
      ]
    },
    {
      "cell_type": "code",
      "metadata": {
        "id": "TjwrIVfcoTzT",
        "colab_type": "code",
        "colab": {}
      },
      "source": [
        "import numpy as np\n",
        "import pandas as pd\n",
        "import matplotlib.pyplot as plt\n",
        "\n",
        "from tensorflow.keras.datasets import mnist"
      ],
      "execution_count": 30,
      "outputs": []
    },
    {
      "cell_type": "code",
      "metadata": {
        "id": "dxvHNa6Woloz",
        "colab_type": "code",
        "colab": {}
      },
      "source": [
        "(x_train, y_train), (x_test, y_test) = mnist.load_data()\n",
        "\n",
        "X = x_train.astype(float) / 255\n",
        "x_test = x_test.astype(float) / 255"
      ],
      "execution_count": 31,
      "outputs": []
    },
    {
      "cell_type": "code",
      "metadata": {
        "id": "NdlcppvgpK1p",
        "colab_type": "code",
        "colab": {}
      },
      "source": [
        "from tensorflow.keras.layers import Input, Conv2D, Dense, UpSampling2D, MaxPooling2D, Flatten, Reshape\n",
        "from tensorflow.keras.models import Model"
      ],
      "execution_count": 32,
      "outputs": []
    },
    {
      "cell_type": "code",
      "metadata": {
        "id": "KWhA4vAZpibO",
        "colab_type": "code",
        "colab": {}
      },
      "source": [
        "#Encoder\n",
        "in_layer = Input(shape=(28, 28))\n",
        "reshape = Reshape(target_shape=(28, 28, 1))(in_layer)\n",
        "\n",
        "conv = Conv2D(32, kernel_size=3, activation=\"tanh\", padding=\"same\")(reshape)\n",
        "pool = MaxPooling2D()(conv)\n",
        "\n",
        "conv = Conv2D(64, kernel_size=3, activation=\"tanh\", padding=\"same\")(pool)\n",
        "pool = MaxPooling2D()(conv)\n",
        "\n",
        "flat = Flatten()(pool)\n",
        "out_layer = Dense(units=20, activation=\"sigmoid\")(flat)"
      ],
      "execution_count": 33,
      "outputs": []
    },
    {
      "cell_type": "code",
      "metadata": {
        "id": "tzV-6b8gqV8D",
        "colab_type": "code",
        "colab": {
          "base_uri": "https://localhost:8080/",
          "height": 420
        },
        "outputId": "26c8bc62-7c08-47ff-fac3-d22afed258d9"
      },
      "source": [
        "encoder = Model(in_layer, out_layer)\n",
        "encoder.summary()"
      ],
      "execution_count": 34,
      "outputs": [
        {
          "output_type": "stream",
          "text": [
            "Model: \"model_6\"\n",
            "_________________________________________________________________\n",
            "Layer (type)                 Output Shape              Param #   \n",
            "=================================================================\n",
            "input_8 (InputLayer)         [(None, 28, 28)]          0         \n",
            "_________________________________________________________________\n",
            "reshape_6 (Reshape)          (None, 28, 28, 1)         0         \n",
            "_________________________________________________________________\n",
            "conv2d_10 (Conv2D)           (None, 28, 28, 32)        320       \n",
            "_________________________________________________________________\n",
            "max_pooling2d_4 (MaxPooling2 (None, 14, 14, 32)        0         \n",
            "_________________________________________________________________\n",
            "conv2d_11 (Conv2D)           (None, 14, 14, 64)        18496     \n",
            "_________________________________________________________________\n",
            "max_pooling2d_5 (MaxPooling2 (None, 7, 7, 64)          0         \n",
            "_________________________________________________________________\n",
            "flatten_2 (Flatten)          (None, 3136)              0         \n",
            "_________________________________________________________________\n",
            "dense_4 (Dense)              (None, 20)                62740     \n",
            "=================================================================\n",
            "Total params: 81,556\n",
            "Trainable params: 81,556\n",
            "Non-trainable params: 0\n",
            "_________________________________________________________________\n"
          ],
          "name": "stdout"
        }
      ]
    },
    {
      "cell_type": "code",
      "metadata": {
        "id": "PgpNPr4Uqcao",
        "colab_type": "code",
        "colab": {}
      },
      "source": [
        "#Decoder\n",
        "in_layer = Input(shape=(20,))\n",
        "dense = Dense(units=7*7*64, activation=\"tanh\")(in_layer)\n",
        "reshape = Reshape(target_shape=(7, 7, 64))(dense)\n",
        "\n",
        "conv = Conv2D(64, kernel_size=3, activation=\"tanh\", padding=\"same\")(reshape)\n",
        "upsample = UpSampling2D()(conv)\n",
        "\n",
        "conv = Conv2D(32, kernel_size=3, activation=\"tanh\", padding=\"same\")(upsample)\n",
        "upsample = UpSampling2D()(conv)\n",
        "\n",
        "conv = Conv2D(1, kernel_size=3, activation=\"sigmoid\", padding=\"same\")(upsample)\n",
        "out_layer = Reshape(target_shape=(28, 28))(conv)"
      ],
      "execution_count": 35,
      "outputs": []
    },
    {
      "cell_type": "code",
      "metadata": {
        "id": "jDMbsyi0rVhT",
        "colab_type": "code",
        "colab": {}
      },
      "source": [
        "decoder = Model(in_layer, out_layer)"
      ],
      "execution_count": 36,
      "outputs": []
    },
    {
      "cell_type": "code",
      "metadata": {
        "id": "sPGlA_J7rY1m",
        "colab_type": "code",
        "colab": {
          "base_uri": "https://localhost:8080/",
          "height": 454
        },
        "outputId": "7795daac-1942-40eb-d829-a6a2c1457726"
      },
      "source": [
        "decoder.summary()"
      ],
      "execution_count": 37,
      "outputs": [
        {
          "output_type": "stream",
          "text": [
            "Model: \"model_7\"\n",
            "_________________________________________________________________\n",
            "Layer (type)                 Output Shape              Param #   \n",
            "=================================================================\n",
            "input_9 (InputLayer)         [(None, 20)]              0         \n",
            "_________________________________________________________________\n",
            "dense_5 (Dense)              (None, 3136)              65856     \n",
            "_________________________________________________________________\n",
            "reshape_7 (Reshape)          (None, 7, 7, 64)          0         \n",
            "_________________________________________________________________\n",
            "conv2d_12 (Conv2D)           (None, 7, 7, 64)          36928     \n",
            "_________________________________________________________________\n",
            "up_sampling2d_4 (UpSampling2 (None, 14, 14, 64)        0         \n",
            "_________________________________________________________________\n",
            "conv2d_13 (Conv2D)           (None, 14, 14, 32)        18464     \n",
            "_________________________________________________________________\n",
            "up_sampling2d_5 (UpSampling2 (None, 28, 28, 32)        0         \n",
            "_________________________________________________________________\n",
            "conv2d_14 (Conv2D)           (None, 28, 28, 1)         289       \n",
            "_________________________________________________________________\n",
            "reshape_8 (Reshape)          (None, 28, 28)            0         \n",
            "=================================================================\n",
            "Total params: 121,537\n",
            "Trainable params: 121,537\n",
            "Non-trainable params: 0\n",
            "_________________________________________________________________\n"
          ],
          "name": "stdout"
        }
      ]
    },
    {
      "cell_type": "code",
      "metadata": {
        "id": "7j4fNhUhraae",
        "colab_type": "code",
        "colab": {}
      },
      "source": [
        "in_layer = Input(shape=(28, 28))\n",
        "encode_layer = encoder(in_layer)\n",
        "decode_layer = decoder(encode_layer)"
      ],
      "execution_count": 38,
      "outputs": []
    },
    {
      "cell_type": "code",
      "metadata": {
        "id": "qTyonCL8rurm",
        "colab_type": "code",
        "colab": {}
      },
      "source": [
        "autoencoder = Model(in_layer, decode_layer)"
      ],
      "execution_count": 39,
      "outputs": []
    },
    {
      "cell_type": "code",
      "metadata": {
        "id": "AirR3WLNr3sl",
        "colab_type": "code",
        "colab": {
          "base_uri": "https://localhost:8080/",
          "height": 252
        },
        "outputId": "dabac31d-4dde-4e1c-83fb-f22c51a34f78"
      },
      "source": [
        "autoencoder.summary()"
      ],
      "execution_count": 40,
      "outputs": [
        {
          "output_type": "stream",
          "text": [
            "Model: \"model_8\"\n",
            "_________________________________________________________________\n",
            "Layer (type)                 Output Shape              Param #   \n",
            "=================================================================\n",
            "input_10 (InputLayer)        [(None, 28, 28)]          0         \n",
            "_________________________________________________________________\n",
            "model_6 (Model)              (None, 20)                81556     \n",
            "_________________________________________________________________\n",
            "model_7 (Model)              (None, 28, 28)            121537    \n",
            "=================================================================\n",
            "Total params: 203,093\n",
            "Trainable params: 203,093\n",
            "Non-trainable params: 0\n",
            "_________________________________________________________________\n"
          ],
          "name": "stdout"
        }
      ]
    },
    {
      "cell_type": "code",
      "metadata": {
        "id": "tZ5FKEVGr6BX",
        "colab_type": "code",
        "colab": {}
      },
      "source": [
        "autoencoder.compile(optimizer=\"adam\", loss=\"binary_crossentropy\")"
      ],
      "execution_count": 41,
      "outputs": []
    },
    {
      "cell_type": "code",
      "metadata": {
        "id": "2hZJ8CDqsDwk",
        "colab_type": "code",
        "colab": {
          "base_uri": "https://localhost:8080/",
          "height": 370
        },
        "outputId": "bf53c968-602d-4dae-9a92-9108680e4c1d"
      },
      "source": [
        "autoencoder.fit(X, X, batch_size=1000, epochs=10)"
      ],
      "execution_count": 42,
      "outputs": [
        {
          "output_type": "stream",
          "text": [
            "Epoch 1/10\n",
            "60/60 [==============================] - 5s 86ms/step - loss: 0.2940\n",
            "Epoch 2/10\n",
            "60/60 [==============================] - 5s 85ms/step - loss: 0.1812\n",
            "Epoch 3/10\n",
            "60/60 [==============================] - 5s 85ms/step - loss: 0.1465\n",
            "Epoch 4/10\n",
            "60/60 [==============================] - 5s 85ms/step - loss: 0.1336\n",
            "Epoch 5/10\n",
            "60/60 [==============================] - 5s 85ms/step - loss: 0.1245\n",
            "Epoch 6/10\n",
            "60/60 [==============================] - 5s 85ms/step - loss: 0.1209\n",
            "Epoch 7/10\n",
            "60/60 [==============================] - 5s 85ms/step - loss: 0.1184\n",
            "Epoch 8/10\n",
            "60/60 [==============================] - 5s 86ms/step - loss: 0.1157\n",
            "Epoch 9/10\n",
            "60/60 [==============================] - 5s 86ms/step - loss: 0.1131\n",
            "Epoch 10/10\n",
            "60/60 [==============================] - 5s 86ms/step - loss: 0.1122\n"
          ],
          "name": "stdout"
        },
        {
          "output_type": "execute_result",
          "data": {
            "text/plain": [
              "<tensorflow.python.keras.callbacks.History at 0x7f2dc1014c88>"
            ]
          },
          "metadata": {
            "tags": []
          },
          "execution_count": 42
        }
      ]
    },
    {
      "cell_type": "code",
      "metadata": {
        "id": "pBjZLSRPsOK-",
        "colab_type": "code",
        "colab": {}
      },
      "source": [
        "out = autoencoder.predict(x_test[:5])"
      ],
      "execution_count": 43,
      "outputs": []
    },
    {
      "cell_type": "code",
      "metadata": {
        "id": "U3Y545mitpSJ",
        "colab_type": "code",
        "colab": {
          "base_uri": "https://localhost:8080/",
          "height": 1000
        },
        "outputId": "1d1cad00-8cec-492a-e940-54f923e1a170"
      },
      "source": [
        "for i in range(5):\n",
        "  plt.figure()\n",
        "  plt.imshow(out[i], cmap=\"gray\")\n",
        "  plt.show()"
      ],
      "execution_count": 45,
      "outputs": [
        {
          "output_type": "display_data",
          "data": {
            "image/png": "[encoded data removed]",
            "text/plain": [
              "<Figure size 432x288 with 1 Axes>"
            ]
          },
          "metadata": {
            "tags": [],
            "needs_background": "light"
          }
        },
        {
          "output_type": "display_data",
          "data": {
            "image/png": "[encoded data removed]",
            "text/plain": [
              "<Figure size 432x288 with 1 Axes>"
            ]
          },
          "metadata": {
            "tags": [],
            "needs_background": "light"
          }
        },
        {
          "output_type": "display_data",
          "data": {
            "image/png": "[encoded data removed]",
            "text/plain": [
              "<Figure size 432x288 with 1 Axes>"
            ]
          },
          "metadata": {
            "tags": [],
            "needs_background": "light"
          }
        },
        {
          "output_type": "display_data",
          "data": {
            "image/png": "[encoded data removed]",
            "text/plain": [
              "<Figure size 432x288 with 1 Axes>"
            ]
          },
          "metadata": {
            "tags": [],
            "needs_background": "light"
          }
        },
        {
          "output_type": "display_data",
          "data": {
            "image/png": "[encoded data removed]",
            "text/plain": [
              "<Figure size 432x288 with 1 Axes>"
            ]
          },
          "metadata": {
            "tags": [],
            "needs_background": "light"
          }
        }
      ]
    },
    {
      "cell_type": "markdown",
      "metadata": {
        "id": "FsyGKnEJuVDB",
        "colab_type": "text"
      },
      "source": [
        "<b>So we just extracted the whole picture from 20 useful features</b>"
      ]
    },
    {
      "cell_type": "code",
      "metadata": {
        "id": "xvXBdda4ui78",
        "colab_type": "code",
        "colab": {}
      },
      "source": [
        ""
      ],
      "execution_count": null,
      "outputs": []
    }
  ]
}